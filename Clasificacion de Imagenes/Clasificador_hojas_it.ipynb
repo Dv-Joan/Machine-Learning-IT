{
  "cells": [
    {
      "cell_type": "code",
      "execution_count": null,
      "metadata": {
        "id": "P-_M3zca2tXr"
      },
      "outputs": [],
      "source": [
        "from google.colab import files\n",
        "uploaded=files.upload()"
      ]
    },
    {
      "cell_type": "code",
      "execution_count": 21,
      "metadata": {
        "id": "bMLxw3pC3uOq"
      },
      "outputs": [],
      "source": [
        "import zipfile \n",
        "import io\n",
        "data=zipfile.ZipFile(io.BytesIO(uploaded['Hojas IT.zip' ]),'r')\n",
        "data.extractall() "
      ]
    },
    {
      "cell_type": "code",
      "execution_count": 1,
      "metadata": {},
      "outputs": [],
      "source": [
        "import numpy as np\n",
        "import glob\n",
        "import cv2"
      ]
    },
    {
      "cell_type": "code",
      "execution_count": null,
      "metadata": {},
      "outputs": [],
      "source": [
        "# A Escala de Grises"
      ]
    },
    {
      "cell_type": "code",
      "execution_count": null,
      "metadata": {},
      "outputs": [],
      "source": [
        "img = cv2.imread('./../Imagenes/Hojas/enfermas/Training/byZwaWQ9QXBp.jpg')\n",
        "def getFeatures(img):\n",
        "    gray = cv2.cvtColor(img, cv2.COLOR_BGR2GRAY)\n",
        "    threshold,_ = cv2.threshold(gray,0,255,cv2.THRESH_OTSU)\n",
        "    mask = np.uint8(1*(gray<threshold))\n",
        "    B=(1/255)*np.sum(img[:,:,0]*mask)/np.sum(mask)\n",
        "    G=(1/255)*np.sum(img[:,:,1]*mask)/np.sum(mask)\n",
        "    R=(1/255)*np.sum(img[:,:,2]*mask)/np.sum(mask)\n",
        "    return [B,G,R]\n"
      ]
    },
    {
      "cell_type": "code",
      "execution_count": null,
      "metadata": {},
      "outputs": [],
      "source": [
        "#Rutas para cargar las imagenes, Etiquetas y Caracteristicas "
      ]
    },
    {
      "cell_type": "code",
      "execution_count": null,
      "metadata": {},
      "outputs": [],
      "source": [
        "paths=['./../Imagenes/Hojas/enfermas/Training/',\n",
        "'./../Imagenes/Hojas/saludables/Training/'\n",
        "]\n",
        "labels=[]\n",
        "features=[]"
      ]
    },
    {
      "cell_type": "code",
      "execution_count": null,
      "metadata": {},
      "outputs": [],
      "source": [
        "#Lectura a cada una de las imagenes para etiqutarlas y extraer sus caracteristicas"
      ]
    },
    {
      "cell_type": "code",
      "execution_count": null,
      "metadata": {},
      "outputs": [],
      "source": [
        "for label, path in enumerate(paths):\n",
        "    for path in paths :\n",
        "        for filename in glob.glob(path+'*.jpg'):\n",
        "            img=cv2.imread(filename)\n",
        "            feature_vector=np.array(getFeatures(img))\n",
        "            x=np\n",
        "            features.append(x)\n",
        "            labels.append(label)\n"
      ]
    },
    {
      "cell_type": "code",
      "execution_count": null,
      "metadata": {},
      "outputs": [],
      "source": [
        "# Para el grafico de puntos en 3D"
      ]
    },
    {
      "cell_type": "code",
      "execution_count": null,
      "metadata": {},
      "outputs": [],
      "source": [
        "import matplotlib.pyplot as plt"
      ]
    },
    {
      "cell_type": "code",
      "execution_count": null,
      "metadata": {},
      "outputs": [],
      "source": [
        "# Creacion de la grafica , los datos provenientes de features y labels "
      ]
    },
    {
      "cell_type": "code",
      "execution_count": null,
      "metadata": {},
      "outputs": [],
      "source": [
        "fig = plt.figure()\n",
        "ax = fig.add_subplot(111, projection='3d')\n",
        "\n",
        "for i, feature_row in enumerate(features):\n",
        "    if labels[i] == -1:\n",
        "        ax.scatter(feature_row[0], feature_row[1], feature_row[2], marker='*', c='k')\n",
        "\n",
        "    else:\n",
        "        #ERROR EN ESTA LINEA\n",
        "      ax.scatter(feature_row[0],feature_row[1],feature_row[2], marker ='*',c='r')\n",
        "        \n",
        "ax.set_xlabel('B')\n",
        "ax.set_ylabel('G')\n",
        "ax.set_zlabel('R')\n",
        "\n",
        "subFeatures = features[:,1::]\n",
        "loss = []"
      ]
    },
    {
      "cell_type": "code",
      "execution_count": null,
      "metadata": {},
      "outputs": [],
      "source": [
        "# Calculo de la distancia euclidiana entre los puntos de la grafica de puntos en 3R , al final los errores obtenidos se almacenan en la variable loss"
      ]
    },
    {
      "cell_type": "code",
      "execution_count": null,
      "metadata": {},
      "outputs": [],
      "source": [
        "for w1 in np.linspace(-6, 6, 100):\n",
        "    for w2 in np.linspace(-6, 6, 100):\n",
        "        totalError = 0\n",
        "\n",
        "        for i, feature_row in enumerate(subFeatures):\n",
        "            sample_error = (w1 * feature_row[0] + w2 * feature_row[1] - labels[i]) ** 2\n",
        "            \n",
        "            totalError += sample_error\n",
        "            \n",
        "        loss.append([w1, w2, totalError])\n",
        "        \n",
        "loss = np.array(loss)"
      ]
    },
    {
      "cell_type": "code",
      "execution_count": null,
      "metadata": {},
      "outputs": [],
      "source": [
        "# Creamos el grafico 3D"
      ]
    },
    {
      "cell_type": "code",
      "execution_count": null,
      "metadata": {},
      "outputs": [],
      "source": [
        "fig = plt.figure()\n",
        "ax1 = fig.add_subplot(111, projection='3d')\n",
        "ax1.plot_trisurf(loss[:,0], loss[:,1], loss[:,2], cmap=cm.jet, linewidth=0)\n",
        "ax1.set_xlabel('w1')\n",
        "ax1.set_ylabel('w2')\n",
        "ax1.set_zlabel('loss')"
      ]
    },
    {
      "cell_type": "code",
      "execution_count": null,
      "metadata": {},
      "outputs": [],
      "source": [
        "# Ahora se crean 2 matrices para calcular los coeficientes de la recta de regresion lineal utilizando la formula de minimos cuadrados"
      ]
    },
    {
      "cell_type": "code",
      "execution_count": null,
      "metadata": {},
      "outputs": [],
      "source": [
        "A = np.zeros((4,4))\n",
        "b = np.zeros((4,1))\n",
        "\n",
        "for i, feature_row in enumerate(features):\n",
        "    x = np.append([1], feature_row)\n",
        "    x = x.reshape((4,1))\n",
        "    y = labels[i]\n",
        "    \n",
        "    A = A + x * x.T\n",
        "    b = b + x * y\n",
        "    \n",
        "invA = np.linalg.inv(A)\n",
        "W = np.dot(invA, b)\n",
        "\n",
        "X = np.arange(0, 1, 0.1)\n",
        "Y = np.arange(0, 1, 0.1)\n",
        "X, Y = np.meshgrid(X, Y)\n",
        "Z = -(W[1] * X + W[2] * Y + W[0]) / W[3]\n"
      ]
    },
    {
      "cell_type": "code",
      "execution_count": null,
      "metadata": {},
      "outputs": [],
      "source": [
        "\n",
        "import matplotlib.cm as cm"
      ]
    },
    {
      "cell_type": "code",
      "execution_count": null,
      "metadata": {},
      "outputs": [],
      "source": [
        "# Regresion lineal para hace predicciones sobre cada imagen de la carpeta de prueba utilizando los valores de W"
      ]
    },
    {
      "cell_type": "code",
      "execution_count": null,
      "metadata": {},
      "outputs": [],
      "source": [
        "ax.plot_surface(X, Y, Z, cmap=cm.Blues)\n",
        "\n",
        "prediction = 1 * (W[0] + np.dot(features, W[1::])) >= 0\n",
        "prediction = 2 * prediction - 1\n",
        "error = np.sum(prediction != labels.reshape(-1,1)) / len(labels)\n",
        "efectividad = 1 - error\n",
        "\n",
        "RUTA_IMAGEN = './../Imagenes/Hojas/saludables/Training/eCZwaWQ9QXBp2.jpg'\n",
        "img = cv2.imread(RUTA_IMAGEN)\n",
        "\n",
        "feature_vector = np.array(getFeatures(img))\n",
        "result = np.sign(W[0] + np.dot(feature_vector, W[1::]))"
      ]
    },
    {
      "cell_type": "code",
      "execution_count": null,
      "metadata": {},
      "outputs": [],
      "source": [
        "# Condicional para saber si la imagen pertenece a una Hoja saludable o enferma"
      ]
    },
    {
      "cell_type": "code",
      "execution_count": null,
      "metadata": {
        "id": "J8TEZ0660SZ0"
      },
      "outputs": [],
      "source": [
        "if result == -1:\n",
        "    print(\"Hoja ENFERMA\")\n",
        "else:\n",
        "    print(\"Hoja SALUDABLE\")"
      ]
    }
  ],
  "metadata": {
    "colab": {
      "provenance": [],
      "toc_visible": true
    },
    "kernelspec": {
      "display_name": "opencv",
      "language": "python",
      "name": "python3"
    },
    "language_info": {
      "codemirror_mode": {
        "name": "ipython",
        "version": 3
      },
      "file_extension": ".py",
      "mimetype": "text/x-python",
      "name": "python",
      "nbconvert_exporter": "python",
      "pygments_lexer": "ipython3",
      "version": "3.10.8"
    },
    "vscode": {
      "interpreter": {
        "hash": "4f288992c3d2ea9a57e737f0258c070f1af17f8f1a18191933794360d4ce756e"
      }
    }
  },
  "nbformat": 4,
  "nbformat_minor": 0
}
